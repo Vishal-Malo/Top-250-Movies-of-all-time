{
 "cells": [
  {
   "cell_type": "code",
   "execution_count": 1,
   "metadata": {},
   "outputs": [],
   "source": [
    "#importing libraries\n",
    "\n",
    "import numpy as np\n",
    "import pandas as pd\n",
    "import requests\n",
    "from bs4 import BeautifulSoup"
   ]
  },
  {
   "cell_type": "code",
   "execution_count": 2,
   "metadata": {},
   "outputs": [],
   "source": [
    "#send request\n",
    "\n",
    "url=['https://www.imdb.com/list/ls068082370/','https://www.imdb.com/list/ls068082370/?sort=list_order,asc&st_dt=&mode=detail&page=2','https://www.imdb.com/list/ls068082370/?sort=list_order,asc&st_dt=&mode=detail&page=3']\n",
    "page=[]\n",
    "soup=[]\n",
    "\n",
    "for i in url:\n",
    "    page.append(requests.get(i))\n",
    "\n",
    "for i in page:\n",
    "    soup.append(BeautifulSoup(i.text,'html.parser'))"
   ]
  },
  {
   "cell_type": "code",
   "execution_count": 3,
   "metadata": {},
   "outputs": [],
   "source": [
    "#read id\n",
    "\n",
    "element=[]\n",
    "movie_id=[]\n",
    "for i in soup:\n",
    "    element.append(i.find_all(class_='lister-item-index unbold text-primary'))\n",
    "for i in element:\n",
    "    for item in i:\n",
    "        movie_id.append(item.text)\n",
    "for i in range(250):\n",
    "    movie_id[i]=movie_id[i][:-1]"
   ]
  },
  {
   "cell_type": "code",
   "execution_count": 4,
   "metadata": {},
   "outputs": [],
   "source": [
    "#read movie name\n",
    "\n",
    "element=[]\n",
    "movie=[]\n",
    "\n",
    "for i in soup:\n",
    "    element.append(i.find_all(class_='lister-item-content'))\n",
    "for i in element:\n",
    "    for item in i:\n",
    "        movie.append(item.a.text)"
   ]
  },
  {
   "cell_type": "code",
   "execution_count": 5,
   "metadata": {},
   "outputs": [],
   "source": [
    "#read year of release\n",
    "\n",
    "year=[]\n",
    "element=[]\n",
    "for i in soup:\n",
    "    element.append(i.find_all(class_='lister-item-year text-muted unbold'))\n",
    "for i in element:\n",
    "    for item in i:\n",
    "        year.append(item.text)\n",
    "for i in range(250):\n",
    "    year[i]=year[i].replace('(','')\n",
    "    year[i]=year[i].replace(')','')"
   ]
  },
  {
   "cell_type": "code",
   "execution_count": 6,
   "metadata": {},
   "outputs": [],
   "source": [
    "#read genre\n",
    "\n",
    "genre=[]\n",
    "element=[]\n",
    "for i in soup:\n",
    "    element.append(i.find_all(class_='genre'))\n",
    "for i in element:\n",
    "    for item in i:\n",
    "        genre.append(item.text)\n",
    "for i in range(250):\n",
    "    genre[i]=genre[i][1:-12]"
   ]
  },
  {
   "cell_type": "code",
   "execution_count": 7,
   "metadata": {},
   "outputs": [],
   "source": [
    "#read IMDB rating\n",
    "\n",
    "r=[]\n",
    "rating=[]\n",
    "element=[]\n",
    "for i in soup:\n",
    "    element.append(i.find_all(class_='ipl-rating-star__rating'))\n",
    "for i in element:\n",
    "    for item in i:\n",
    "        r.append(item.text)\n",
    "c=0\n",
    "for i in range(5750):\n",
    "    if i==c:\n",
    "        rating.append(r[i])\n",
    "        c=c+23"
   ]
  },
  {
   "cell_type": "code",
   "execution_count": 8,
   "metadata": {},
   "outputs": [],
   "source": [
    "#read metascore\n",
    "\n",
    "metascore=[]\n",
    "element=[]\n",
    "for i in soup:\n",
    "    element.append(i.find_all('div', class_='inline-block ratings-metascore'))\n",
    "for i in element:\n",
    "    for item in i:\n",
    "        metascore.append(item.text)\n",
    "for i in range(203):\n",
    "    metascore[i]=metascore[i].replace('        \\n        Metascore\\n            ','')\n",
    "    metascore[i]=metascore[i].replace('\\n','')"
   ]
  },
  {
   "cell_type": "code",
   "execution_count": 9,
   "metadata": {},
   "outputs": [],
   "source": [
    "#read about\n",
    "\n",
    "about1=[]\n",
    "element=[]\n",
    "for i in soup:\n",
    "    element.append(i.find_all('p'))#, class_='text-muted'))\n",
    "for i in element:\n",
    "    for item in i:\n",
    "        about1.append(item.text)\n",
    "about1=about1[13:]\n",
    "about=[]\n",
    "c=1\n",
    "for i in range(1000):\n",
    "    if i==c:\n",
    "        about.append(about1[i])\n",
    "        c=c+4\n",
    "for i in range(250):\n",
    "    about[i]=about[i].replace('\\n    ','')"
   ]
  },
  {
   "cell_type": "code",
   "execution_count": 10,
   "metadata": {},
   "outputs": [],
   "source": [
    "#read directors and actors\n",
    "\n",
    "element=[]\n",
    "k=[]\n",
    "director=[]\n",
    "actor=[]\n",
    "d=[]\n",
    "a=[]\n",
    "for i in soup:\n",
    "    element.append(i.find_all('p', class_='text-muted text-small'))\n",
    "c=0\n",
    "for i in element:\n",
    "    for item in i:\n",
    "        if c%3==1:\n",
    "            k.append(item.text)\n",
    "        c=c+1\n",
    "for i in range(250):\n",
    "    k[i]=k[i].replace('\\n','')\n",
    "    d.append(k[i].split('|')[0])\n",
    "    a.append(k[i].split('|')[1])\n",
    "for i in range(250):\n",
    "    d[i]=d[i].replace('Director:','')\n",
    "    d[i]=d[i].replace('Directors:','')\n",
    "    director.append(d[i])\n",
    "    a[i]=a[i].replace('Star:','')\n",
    "    a[i]=a[i].replace('Stars:','')\n",
    "    actor.append(a[i])\n",
    "for i in range(250):\n",
    "    director[i]=director[i].replace('    ','')\n",
    "    actor[i]=actor[i].replace('     ','')"
   ]
  },
  {
   "cell_type": "code",
   "execution_count": 11,
   "metadata": {},
   "outputs": [],
   "source": [
    "#read number of votes and gross income\n",
    "\n",
    "k1=[]\n",
    "element=[]\n",
    "for i in soup:\n",
    "    element.append(i.find_all('p'))\n",
    "for i in element:\n",
    "    for item in i:\n",
    "        k1.append(item.text)\n",
    "k1=k1[13:]\n",
    "k=[]\n",
    "c=3\n",
    "for i in range(1000):\n",
    "    if i==c:\n",
    "        k.append(k1[i])\n",
    "        c=c+4\n",
    "for i in range(250):\n",
    "    k[i]=k[i].replace('\\n','')\n",
    "    k[i]=k[i].replace('Votes:','')\n",
    "    k[i]=k[i].replace('Gross:','')\n",
    "votes=[]\n",
    "gross=[]\n",
    "for i in range(250):\n",
    "    l=k[i].split('| ')\n",
    "    if len(l)==1:\n",
    "        votes.append(l[0])\n",
    "        gross.append(np.NaN)\n",
    "    else:\n",
    "        votes.append(l[0])\n",
    "        gross.append(l[1])"
   ]
  },
  {
   "cell_type": "code",
   "execution_count": 12,
   "metadata": {},
   "outputs": [],
   "source": [
    "#creating dataframe\n",
    "\n",
    "final_array=[]\n",
    "\n",
    "for id, name, rel_year, gen, rat, ab, direc, act, vote, gros in zip(movie_id, movie, year, genre, rating, about, director, actor, votes, gross):\n",
    "    final_array.append({'Movie_ID':id, 'Movie_Title':name, 'Year_of_Release':rel_year, 'Genre':gen, 'IMDb_Ratings':rat, 'About':ab, 'Director':direc, 'Stars':act, 'Number_of_Votes': vote, 'Gross_Income':gros})\n",
    "    \n",
    "data=pd.DataFrame(final_array)\n",
    "data=data[['Movie_ID','Movie_Title','Year_of_Release','Genre','IMDb_Ratings','About','Director','Stars','Number_of_Votes','Gross_Income']]"
   ]
  },
  {
   "cell_type": "code",
   "execution_count": 13,
   "metadata": {},
   "outputs": [
    {
     "name": "stdout",
     "output_type": "stream",
     "text": [
      "<class 'pandas.core.frame.DataFrame'>\n",
      "RangeIndex: 250 entries, 0 to 249\n",
      "Data columns (total 10 columns):\n",
      "Movie_ID           250 non-null object\n",
      "Movie_Title        250 non-null object\n",
      "Year_of_Release    250 non-null object\n",
      "Genre              250 non-null object\n",
      "IMDb_Ratings       250 non-null object\n",
      "About              250 non-null object\n",
      "Director           250 non-null object\n",
      "Stars              250 non-null object\n",
      "Number_of_Votes    250 non-null object\n",
      "Gross_Income       133 non-null object\n",
      "dtypes: object(10)\n",
      "memory usage: 19.6+ KB\n"
     ]
    }
   ],
   "source": [
    "data.info()"
   ]
  },
  {
   "cell_type": "code",
   "execution_count": 17,
   "metadata": {},
   "outputs": [],
   "source": [
    "#saving the dataframe\n",
    "\n",
    "data.to_csv(r'C:\\Users\\Malo\\Top-250-Movies-of-all-time\\data.csv', header=False, index=False)"
   ]
  },
  {
   "cell_type": "code",
   "execution_count": null,
   "metadata": {},
   "outputs": [],
   "source": []
  }
 ],
 "metadata": {
  "kernelspec": {
   "display_name": "Python 3",
   "language": "python",
   "name": "python3"
  },
  "language_info": {
   "codemirror_mode": {
    "name": "ipython",
    "version": 3
   },
   "file_extension": ".py",
   "mimetype": "text/x-python",
   "name": "python",
   "nbconvert_exporter": "python",
   "pygments_lexer": "ipython3",
   "version": "3.7.1"
  }
 },
 "nbformat": 4,
 "nbformat_minor": 2
}
